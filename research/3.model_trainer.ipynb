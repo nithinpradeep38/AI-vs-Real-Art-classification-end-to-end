{
 "cells": [
  {
   "cell_type": "code",
   "execution_count": 1,
   "metadata": {},
   "outputs": [
    {
     "data": {
      "text/plain": [
       "'/Users/nithinpradeep/AV/Projects/AI-vs-Real-Art-classification-end-to-end/research'"
      ]
     },
     "execution_count": 1,
     "metadata": {},
     "output_type": "execute_result"
    }
   ],
   "source": [
    "import os\n",
    "os.getcwd()"
   ]
  },
  {
   "cell_type": "code",
   "execution_count": 2,
   "metadata": {},
   "outputs": [
    {
     "data": {
      "text/plain": [
       "'/Users/nithinpradeep/AV/Projects/AI-vs-Real-Art-classification-end-to-end'"
      ]
     },
     "execution_count": 2,
     "metadata": {},
     "output_type": "execute_result"
    }
   ],
   "source": [
    "os.chdir('../')\n",
    "os.getcwd()"
   ]
  },
  {
   "cell_type": "markdown",
   "metadata": {},
   "source": [
    "## Step 1. Create Entity"
   ]
  },
  {
   "cell_type": "code",
   "execution_count": 3,
   "metadata": {},
   "outputs": [],
   "source": [
    "from dataclasses import dataclass\n",
    "from pathlib import Path\n",
    "\n",
    "@dataclass(frozen=True)\n",
    "class TrainingConfig:\n",
    "    root_dir: Path\n",
    "    trained_model_path: Path\n",
    "    updated_base_model_path: Path\n",
    "    training_data: Path\n",
    "    class_fake: Path\n",
    "    class_real: Path\n",
    "    params_epochs: int\n",
    "    params_batch_size: int\n",
    "    params_is_augmentation: bool\n",
    "    params_image_size: list\n",
    "\n"
   ]
  },
  {
   "cell_type": "markdown",
   "metadata": {},
   "source": [
    "## Step 2. Configuration"
   ]
  },
  {
   "cell_type": "code",
   "execution_count": 4,
   "metadata": {},
   "outputs": [],
   "source": [
    "from AI_Real_Classifier.constants import *\n",
    "from AI_Real_Classifier.utils.common import read_yaml, create_directories\n",
    "\n",
    "class ConfigurationManager:\n",
    "    def __init__(\n",
    "        self,\n",
    "        config_filepath = CONFIG_FILE_PATH,\n",
    "        params_filepath = PARAMS_FILE_PATH):\n",
    "\n",
    "        self.config = read_yaml(config_filepath)\n",
    "        self.params = read_yaml(params_filepath)\n",
    "\n",
    "        create_directories([self.config.artifacts_root]) #this will create the artifacts folder\n",
    "\n",
    "    def get_training_config(self)-> TrainingConfig:\n",
    "        training= self.config.model_trainer\n",
    "        prepare_base_model= self.config.prepare_base_model\n",
    "        params= self.params\n",
    "        training_data= os.path.join(self.config.data_ingestion.unzip_dir, \"dataset\")\n",
    "        class_fake= os.path.join(self.config.data_ingestion.unzip_dir, \"dataset\", \"fakeV2\", \"fake-v2\" )\n",
    "        class_real= os.path.join(self.config.data_ingestion.unzip_dir, \"dataset\",\"real\")\n",
    "        create_directories([Path(training.root_dir)])\n",
    "\n",
    "        training_config= TrainingConfig(\n",
    "            root_dir=Path(training.root_dir),\n",
    "            trained_model_path= Path(training.trained_model_path),\n",
    "            updated_base_model_path= Path(prepare_base_model.updated_base_model_path),\n",
    "            training_data= Path(training_data),\n",
    "            class_fake= Path(class_fake),\n",
    "            class_real= Path(class_real),\n",
    "            params_epochs= params.EPOCHS,\n",
    "            params_batch_size= params.BATCH_SIZE,\n",
    "            params_is_augmentation= params.AUGMENTATION,\n",
    "            params_image_size= params.IMAGE_SIZE\n",
    "\n",
    "            )\n",
    "        return training_config\n",
    "        "
   ]
  },
  {
   "cell_type": "markdown",
   "metadata": {},
   "source": [
    "## Step 3: Component"
   ]
  },
  {
   "cell_type": "code",
   "execution_count": 5,
   "metadata": {},
   "outputs": [],
   "source": [
    "import os\n",
    "import urllib.request as request\n",
    "from zipfile import ZipFile\n",
    "import tensorflow as tf\n",
    "import time\n",
    "import random\n",
    "from AI_Real_Classifier import logging\n",
    "from sklearn.model_selection import train_test_split\n",
    "from keras.applications.vgg16 import preprocess_input\n",
    "from keras.preprocessing.image import ImageDataGenerator\n",
    "import pandas as pd\n",
    "from keras.callbacks import ModelCheckpoint\n",
    "from PIL import Image\n",
    "\n",
    "class Training:\n",
    "    def __init__(self, config: TrainingConfig):\n",
    "        self.config= config\n",
    "    \n",
    "    def get_base_model(self):\n",
    "        self.model= tf.keras.models.load_model(self.config.updated_base_model_path)\n",
    "\n",
    "    @staticmethod\n",
    "    def sample_fake_images(folder, num_samples):\n",
    "        random.seed(42)\n",
    "        return random.sample(os.listdir(folder), num_samples)\n",
    "\n",
    "    @staticmethod\n",
    "    def filter_large_images(image_dir, max_pixels=178956970):\n",
    "            filtered_images = []\n",
    "            for filename in os.listdir(image_dir):\n",
    "                filepath = os.path.join(image_dir, filename)\n",
    "                try:\n",
    "                    with Image.open(filepath) as img:\n",
    "                        if img.size[0] * img.size[1] <= max_pixels:\n",
    "                            continue\n",
    "                            #filtered_images.append(filename)\n",
    "                except Exception as e:\n",
    "                    logging.info(f\"Error processing {filename}: {e}\")\n",
    "                    filtered_images.append(filename)\n",
    "            return filtered_images\n",
    "\n",
    "    @staticmethod\n",
    "    def load_filenames_labels(folder, label, large_img, sampled_imgs=None):\n",
    "        if sampled_imgs is None:\n",
    "            sampled_imgs= os.listdir(folder)\n",
    "        filenames = []\n",
    "        labels = []\n",
    "        for filename in os.listdir(folder):\n",
    "            if (filename not in large_img) and (filename in sampled_imgs) :\n",
    "                filenames.append(os.path.join(folder, filename))\n",
    "                labels.append(label)\n",
    "        return filenames, labels\n",
    "    \n",
    "    def pre_process(self):\n",
    "        self.filtered_images_fake= self.filter_large_images(self.config.class_fake)\n",
    "        self.filtered_images_real= self.filter_large_images(self.config.class_real)\n",
    "        self.sampled_fake= self.sample_fake_images(self.config.class_fake,4000)\n",
    "        self.class_fake_filenames, self.class_fake_labels= self.load_filenames_labels(self.config.class_fake, \n",
    "                                                                                      '0', \n",
    "                                                                                      self.filtered_images_fake,\n",
    "                                                                                      self.sampled_fake)\n",
    "        \n",
    "        self.class_real_filenames, self.class_real_labels= self.load_filenames_labels(self.config.class_real, \n",
    "                                                                                      '1', \n",
    "                                                                                      self.filtered_images_real)\n",
    "        \n",
    "        self.all_file_names= self.class_fake_filenames+ self.class_real_filenames\n",
    "        self.all_labels= self.class_fake_labels+ self.class_real_labels\n",
    "\n",
    "\n",
    "        # Split the data into train and validation sets while maintaining class balance\n",
    "        self.train_filenames, self.validation_filenames, self.train_labels, self.validation_labels = train_test_split(\n",
    "            self.all_file_names, self.all_labels, test_size=0.2, stratify=self.all_labels, random_state=42)\n",
    "    \n",
    "    def train_valid_generator(self):\n",
    "        \n",
    "        self.train_datagen= ImageDataGenerator(rescale=1./255, preprocessing_function= preprocess_input)\n",
    "        self.valid_datagen= ImageDataGenerator(rescale=1./255, preprocessing_function= preprocess_input)\n",
    "\n",
    "    # Create the generator for training data\n",
    "        self.train_generator = self.train_datagen.flow_from_dataframe(\n",
    "            dataframe=pd.DataFrame({'filename': self.train_filenames, 'class': self.train_labels}),\n",
    "            x_col='filename',\n",
    "            y_col='class',\n",
    "            target_size=(224,224),\n",
    "            batch_size=self.config.params_batch_size,\n",
    "            class_mode='categorical',\n",
    "            shuffle=False,\n",
    "            seed=42\n",
    "        )\n",
    "\n",
    "        # Create the generator for validation data\n",
    "        self.validation_generator = self.valid_datagen.flow_from_dataframe(\n",
    "            dataframe=pd.DataFrame({'filename': self.validation_filenames, 'class': self.validation_labels}),\n",
    "            x_col='filename',\n",
    "            y_col='class',\n",
    "            target_size=(224,224),\n",
    "            batch_size=self.config.params_batch_size,\n",
    "            class_mode='categorical',\n",
    "            shuffle=False,\n",
    "            seed=42\n",
    "        )\n",
    "\n",
    "    @staticmethod\n",
    "    def save_model(path: Path, model: tf.keras.Model):\n",
    "        model.save(path)\n",
    "\n",
    "    def train(self):\n",
    "        self.filepath= str(self.config.trained_model_path)\n",
    "        self.checkpoint= ModelCheckpoint(filepath= self.filepath, \n",
    "                                         monitor=\"val_accuracy\",\n",
    "                                         verbose=1,\n",
    "                                         save_best_only=True,\n",
    "                                         mode='max')\n",
    "        self.model.fit(self.train_generator,\n",
    "                       steps_per_epoch=len(self.train_generator),\n",
    "                       epochs= self.config.params_epochs,\n",
    "                       validation_data= self.validation_generator,\n",
    "                       validation_steps= len(self.validation_generator),\n",
    "                       callbacks= [self.checkpoint])\n",
    "\n"
   ]
  },
  {
   "cell_type": "code",
   "execution_count": 6,
   "metadata": {},
   "outputs": [
    {
     "name": "stderr",
     "output_type": "stream",
     "text": [
      "2024-04-20 12:27:48.878217: I metal_plugin/src/device/metal_device.cc:1154] Metal device set to: Apple M2 Pro\n",
      "2024-04-20 12:27:48.878240: I metal_plugin/src/device/metal_device.cc:296] systemMemory: 16.00 GB\n",
      "2024-04-20 12:27:48.878247: I metal_plugin/src/device/metal_device.cc:313] maxCacheSize: 5.33 GB\n",
      "2024-04-20 12:27:48.878290: I tensorflow/core/common_runtime/pluggable_device/pluggable_device_factory.cc:303] Could not identify NUMA node of platform GPU ID 0, defaulting to 0. Your kernel may not have been built with NUMA support.\n",
      "2024-04-20 12:27:48.878309: I tensorflow/core/common_runtime/pluggable_device/pluggable_device_factory.cc:269] Created TensorFlow device (/job:localhost/replica:0/task:0/device:GPU:0 with 0 MB memory) -> physical PluggableDevice (device: 0, name: METAL, pci bus id: <undefined>)\n"
     ]
    },
    {
     "name": "stdout",
     "output_type": "stream",
     "text": [
      "Found 6224 validated image filenames belonging to 2 classes.\n",
      "Found 1556 validated image filenames belonging to 2 classes.\n"
     ]
    }
   ],
   "source": [
    "try:\n",
    "    config= ConfigurationManager()\n",
    "    training_config= config.get_training_config()\n",
    "    training= Training(config= training_config)\n",
    "    training.get_base_model()\n",
    "    training.pre_process()\n",
    "    training.train_valid_generator() \n",
    "    #training.train()\n",
    "except Exception as e:\n",
    "    raise e"
   ]
  },
  {
   "cell_type": "code",
   "execution_count": 7,
   "metadata": {},
   "outputs": [],
   "source": [
    "import numpy as np"
   ]
  },
  {
   "cell_type": "code",
   "execution_count": 8,
   "metadata": {},
   "outputs": [
    {
     "name": "stderr",
     "output_type": "stream",
     "text": [
      "/opt/anaconda3/envs/aireal/lib/python3.8/site-packages/PIL/Image.py:1000: UserWarning: Palette images with Transparency expressed in bytes should be converted to RGBA images\n",
      "  warnings.warn(\n",
      "2024-04-20 12:32:55.884514: I tensorflow/core/grappler/optimizers/custom_graph_optimizer_registry.cc:114] Plugin optimizer for device_type GPU is enabled.\n"
     ]
    },
    {
     "name": "stdout",
     "output_type": "stream",
     "text": [
      "25/25 [==============================] - 24s 964ms/step\n",
      "              precision    recall  f1-score   support\n",
      "\n",
      "           0       0.81      0.89      0.85       800\n",
      "           1       0.87      0.78      0.83       756\n",
      "\n",
      "    accuracy                           0.84      1556\n",
      "   macro avg       0.84      0.84      0.84      1556\n",
      "weighted avg       0.84      0.84      0.84      1556\n",
      "\n"
     ]
    }
   ],
   "source": [
    "path_of_model= \"artifacts/training/model.h5\"\n",
    "model= tf.keras.models.load_model(path_of_model)\n",
    "\n",
    "predictions= model.predict()\n",
    "predicted_labels= np.argmax(predictions, axis=1).astype('str')\n",
    "true_labels= training.validation_labels\n",
    "\n",
    "from sklearn.metrics import classification_report\n",
    "print(classification_report(true_labels, predicted_labels))"
   ]
  },
  {
   "cell_type": "code",
   "execution_count": null,
   "metadata": {},
   "outputs": [],
   "source": []
  }
 ],
 "metadata": {
  "kernelspec": {
   "display_name": "aireal",
   "language": "python",
   "name": "python3"
  },
  "language_info": {
   "codemirror_mode": {
    "name": "ipython",
    "version": 3
   },
   "file_extension": ".py",
   "mimetype": "text/x-python",
   "name": "python",
   "nbconvert_exporter": "python",
   "pygments_lexer": "ipython3",
   "version": "3.8.19"
  }
 },
 "nbformat": 4,
 "nbformat_minor": 2
}
